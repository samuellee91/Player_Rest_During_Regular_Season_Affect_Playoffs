{
 "cells": [
  {
   "cell_type": "code",
   "execution_count": 2,
   "id": "c87376fe",
   "metadata": {},
   "outputs": [],
   "source": [
    "# Pull game and player performance data from official NBA via api"
   ]
  },
  {
   "cell_type": "code",
   "execution_count": 3,
   "id": "3201e7d5",
   "metadata": {},
   "outputs": [
    {
     "name": "stdout",
     "output_type": "stream",
     "text": [
      "Requirement already satisfied: nba_api in c:\\users\\sam lee\\anaconda3\\lib\\site-packages (1.7.0)\n",
      "Requirement already satisfied: scipy in c:\\users\\sam lee\\anaconda3\\lib\\site-packages (1.10.1)\n",
      "Requirement already satisfied: statsmodels in c:\\users\\sam lee\\anaconda3\\lib\\site-packages (0.13.5)\n",
      "Requirement already satisfied: matplotlib in c:\\users\\sam lee\\anaconda3\\lib\\site-packages (3.7.1)\n",
      "Requirement already satisfied: seaborn in c:\\users\\sam lee\\anaconda3\\lib\\site-packages (0.12.2)\n",
      "Requirement already satisfied: numpy<2.0.0,>=1.22.2 in c:\\users\\sam lee\\anaconda3\\lib\\site-packages (from nba_api) (1.24.3)\n",
      "Requirement already satisfied: requests<3.0.0,>=2.32.3 in c:\\users\\sam lee\\anaconda3\\lib\\site-packages (from nba_api) (2.32.3)\n",
      "Requirement already satisfied: pandas>=0.25 in c:\\users\\sam lee\\anaconda3\\lib\\site-packages (from statsmodels) (1.5.3)\n",
      "Requirement already satisfied: patsy>=0.5.2 in c:\\users\\sam lee\\anaconda3\\lib\\site-packages (from statsmodels) (0.5.3)\n",
      "Requirement already satisfied: packaging>=21.3 in c:\\users\\sam lee\\anaconda3\\lib\\site-packages (from statsmodels) (23.0)\n",
      "Requirement already satisfied: contourpy>=1.0.1 in c:\\users\\sam lee\\anaconda3\\lib\\site-packages (from matplotlib) (1.0.5)\n",
      "Requirement already satisfied: cycler>=0.10 in c:\\users\\sam lee\\anaconda3\\lib\\site-packages (from matplotlib) (0.11.0)\n",
      "Requirement already satisfied: fonttools>=4.22.0 in c:\\users\\sam lee\\anaconda3\\lib\\site-packages (from matplotlib) (4.25.0)\n",
      "Requirement already satisfied: kiwisolver>=1.0.1 in c:\\users\\sam lee\\anaconda3\\lib\\site-packages (from matplotlib) (1.4.4)\n",
      "Requirement already satisfied: pillow>=6.2.0 in c:\\users\\sam lee\\anaconda3\\lib\\site-packages (from matplotlib) (9.4.0)\n",
      "Requirement already satisfied: pyparsing>=2.3.1 in c:\\users\\sam lee\\anaconda3\\lib\\site-packages (from matplotlib) (3.0.9)\n",
      "Requirement already satisfied: python-dateutil>=2.7 in c:\\users\\sam lee\\anaconda3\\lib\\site-packages (from matplotlib) (2.8.2)\n",
      "Requirement already satisfied: pytz>=2020.1 in c:\\users\\sam lee\\anaconda3\\lib\\site-packages (from pandas>=0.25->statsmodels) (2022.7)\n",
      "Requirement already satisfied: six in c:\\users\\sam lee\\anaconda3\\lib\\site-packages (from patsy>=0.5.2->statsmodels) (1.16.0)\n",
      "Requirement already satisfied: charset-normalizer<4,>=2 in c:\\users\\sam lee\\anaconda3\\lib\\site-packages (from requests<3.0.0,>=2.32.3->nba_api) (2.0.4)\n",
      "Requirement already satisfied: idna<4,>=2.5 in c:\\users\\sam lee\\anaconda3\\lib\\site-packages (from requests<3.0.0,>=2.32.3->nba_api) (3.4)\n",
      "Requirement already satisfied: urllib3<3,>=1.21.1 in c:\\users\\sam lee\\anaconda3\\lib\\site-packages (from requests<3.0.0,>=2.32.3->nba_api) (1.26.16)\n",
      "Requirement already satisfied: certifi>=2017.4.17 in c:\\users\\sam lee\\anaconda3\\lib\\site-packages (from requests<3.0.0,>=2.32.3->nba_api) (2023.5.7)\n",
      "Note: you may need to restart the kernel to use updated packages.\n"
     ]
    }
   ],
   "source": [
    "pip install nba_api scipy statsmodels matplotlib seaborn"
   ]
  },
  {
   "cell_type": "code",
   "execution_count": 4,
   "id": "d8f67c54",
   "metadata": {},
   "outputs": [],
   "source": [
    "#Import necessary toolsets\n",
    "import pandas as pd\n",
    "import numpy as np\n",
    "from nba_api.stats.endpoints import playercareerstats, playergamelog\n",
    "from nba_api.stats.endpoints import leaguegamefinder\n",
    "from nba_api.stats.library.parameters import Season, SeasonType\n",
    "from nba_api.stats.static import players\n",
    "import scipy.stats as stats\n",
    "import matplotlib.pyplot as plt\n",
    "import seaborn as sns"
   ]
  },
  {
   "cell_type": "code",
   "execution_count": 5,
   "id": "f2ae92f4",
   "metadata": {},
   "outputs": [],
   "source": [
    "# Function to retrieve regular season stats for a given player\n",
    "def get_regular_season_data(player_id, season):\n",
    "    # Fetch game logs for the specified season\n",
    "    regular_stats = playergamelog.PlayerGameLog(player_id=player_id, season=season, season_type_all_star='Regular Season')\n",
    "    regular_season_df = regular_stats.get_data_frames()[0]\n",
    "    return regular_season_df\n",
    "\n",
    "# Function to get playoff performance stats for a player\n",
    "def get_playoff_data(player_id, season):\n",
    "    # Fetch playoff game logs for the specified season\n",
    "    playoff_stats = playergamelog.PlayerGameLog(player_id=player_id, season=season, season_type_all_star='Playoffs')\n",
    "    playoff_stats_df = playoff_stats.get_data_frames()[0]\n",
    "    return playoff_stats_df\n",
    "\n",
    "# Function to get a player's ID from their name\n",
    "def get_player_id(player_name):\n",
    "    player = players.find_players_by_full_name(player_name)\n",
    "    if player:\n",
    "        return player[0][\"id\"]\n",
    "    return None"
   ]
  },
  {
   "cell_type": "code",
   "execution_count": 6,
   "id": "1c5d7bca",
   "metadata": {},
   "outputs": [],
   "source": [
    "# Sample list of players for analysis\n",
    "player_names = ['LeBron James', 'Jimmy Butler', 'Giannis Antetokounmpo', 'Kawhi Leonard', 'Devin Booker', 'Joel Embiid']\n",
    "player_data = []\n",
    "\n",
    "# Set the season for analysis\n",
    "season = '2020'\n",
    "\n",
    "# Loop through each player to gather their data\n",
    "for player_name in player_names:\n",
    "    player_id = get_player_id(player_name)\n",
    "    \n",
    "    if player_id:\n",
    "        # Get regular season data (minutes played, games played, etc.)\n",
    "        regular_season_data = get_regular_season_data(player_id, season)\n",
    "        \n",
    "        # Get playoff data (points scored, assists, etc.)\n",
    "        playoff_data = get_playoff_data(player_id, season)\n",
    "        \n",
    "        # Total minutes played during the regular season\n",
    "        total_regular_season_minutes = regular_season_data['MIN'].sum()\n",
    "        \n",
    "        # Calculate average points scored in the playoffs\n",
    "        avg_playoff_points = playoff_data['PTS'].mean()\n",
    "        \n",
    "        # Store the data for the player\n",
    "        player_data.append({\n",
    "            'player_name': player_name,\n",
    "            'total_regular_season_minutes': total_regular_season_minutes,\n",
    "            'avg_playoff_points': avg_playoff_points,\n",
    "            'games_played': regular_season_data.shape[0]\n",
    "        })\n",
    "\n",
    "# Convert the collected player data into a DataFrame\n",
    "player_df = pd.DataFrame(player_data)"
   ]
  },
  {
   "cell_type": "code",
   "execution_count": 7,
   "id": "662de334",
   "metadata": {},
   "outputs": [],
   "source": [
    "# Define the threshold for rest (players with less than 2000 minutes in the regular season are considered \"rested\")\n",
    "rest_threshold = 2000\n",
    "\n",
    "# Categorize players into \"rested\" or \"not rested\" based on their total regular season minutes\n",
    "player_df['rested_group'] = player_df['total_regular_season_minutes'].apply(\n",
    "    lambda x: 'Rested' if x < rest_threshold else 'Not Rested'\n",
    ")"
   ]
  },
  {
   "cell_type": "code",
   "execution_count": 8,
   "id": "2c07d7e9",
   "metadata": {},
   "outputs": [
    {
     "name": "stdout",
     "output_type": "stream",
     "text": [
      "T-statistic: -0.8769992311186717\n",
      "P-value: 0.4300017843198044\n",
      "There is no statistically significant difference in playoff performance between rested and non-rested players.\n"
     ]
    }
   ],
   "source": [
    "# Perform a t-test to compare average playoff points between the two groups\n",
    "rested_group = player_df[player_df['rested_group'] == 'Rested']['avg_playoff_points']\n",
    "not_rested_group = player_df[player_df['rested_group'] == 'Not Rested']['avg_playoff_points']\n",
    "\n",
    "# Calculate the t-statistic and p-value for the t-test\n",
    "t_stat, p_value = stats.ttest_ind(rested_group, not_rested_group)\n",
    "\n",
    "# Display the t-test results\n",
    "print(f\"T-statistic: {t_stat}\")\n",
    "print(f\"P-value: {p_value}\")\n",
    "\n",
    "# Interpret the p-value to determine if there's a significant difference\n",
    "if p_value < 0.05:\n",
    "    print(\"There is a statistically significant difference in playoff performance between rested and non-rested players.\")\n",
    "else:\n",
    "    print(\"There is no statistically significant difference in playoff performance between rested and non-rested players.\")"
   ]
  },
  {
   "cell_type": "code",
   "execution_count": 9,
   "id": "139e7cfd",
   "metadata": {},
   "outputs": [
    {
     "data": {
      "image/png": "[encoded data removed]",
      "text/plain": [
       "<Figure size 800x600 with 1 Axes>"
      ]
     },
     "metadata": {},
     "output_type": "display_data"
    }
   ],
   "source": [
    "# Create a boxplot to visualize the performance differences between the two groups\n",
    "plt.figure(figsize=(8, 6))\n",
    "sns.boxplot(x='rested_group', y='avg_playoff_points', data=player_df)\n",
    "plt.title('Playoff Performance (Points) by Player Rest Group')\n",
    "plt.xlabel('Rest Group')\n",
    "plt.ylabel('Average Playoff Points')\n",
    "plt.show()"
   ]
  },
  {
   "cell_type": "code",
   "execution_count": null,
   "id": "dcb09d73",
   "metadata": {},
   "outputs": [],
   "source": []
  }
 ],
 "metadata": {
  "kernelspec": {
   "display_name": "Python 3 (ipykernel)",
   "language": "python",
   "name": "python3"
  },
  "language_info": {
   "codemirror_mode": {
    "name": "ipython",
    "version": 3
   },
   "file_extension": ".py",
   "mimetype": "text/x-python",
   "name": "python",
   "nbconvert_exporter": "python",
   "pygments_lexer": "ipython3",
   "version": "3.11.3"
  }
 },
 "nbformat": 4,
 "nbformat_minor": 5
}
